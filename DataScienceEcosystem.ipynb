{
 "cells": [
  {
   "cell_type": "code",
   "execution_count": 3,
   "id": "ed79648b-e36d-4fd0-954f-9c397b26727b",
   "metadata": {},
   "outputs": [],
   "source": [
    "# H1 \"Data Science Tools and Ecosystem\""
   ]
  },
  {
   "cell_type": "code",
   "execution_count": null,
   "id": "31464a5a-20fa-4e04-bbd0-8653ba84896d",
   "metadata": {},
   "outputs": [],
   "source": [
    "## H2 \"Author: Hyeongyu Bae\""
   ]
  },
  {
   "cell_type": "code",
   "execution_count": 1,
   "id": "38e81ee3-2f9f-4d21-9c9d-b168acd5e9ef",
   "metadata": {},
   "outputs": [],
   "source": [
    "\"In this notebook, Data Science Tools and Ecosystem are summarized.\""
   ]
  },
  {
   "cell_type": "code",
   "execution_count": 2,
   "id": "58eafe33-df60-4478-b36d-dbf6bc09ae15",
   "metadata": {},
   "outputs": [],
   "source": [
    "\"Some of the popular languages that Data Scientists use are: python, R, SQL\""
   ]
  },
  {
   "cell_type": "code",
   "execution_count": 3,
   "id": "4db29af8-ec20-4c4c-a16c-409addd3f089",
   "metadata": {},
   "outputs": [],
   "source": [
    "\"Some of the commonly used libraries used by Data Scientists include: Tensorflow, Numpy, Pandas\""
   ]
  },
  {
   "cell_type": "code",
   "execution_count": 4,
   "id": "10fed160-4280-44c2-ba9b-18534699a58c",
   "metadata": {},
   "outputs": [],
   "source": [
    "\"Data Science Tools: GitHub, Jupyter Notebooks, and RStudio IDE\""
   ]
  },
  {
   "cell_type": "code",
   "execution_count": null,
   "id": "31fbdaf5-882d-44cc-a8c7-beba666e5223",
   "metadata": {},
   "outputs": [],
   "source": [
    "\"Below are a few examples of evaluating arithmetic expressions in Python\""
   ]
  },
  {
   "cell_type": "code",
   "execution_count": 1,
   "id": "1064628f-9e04-4d42-a9f5-18d3559a631e",
   "metadata": {},
   "outputs": [],
   "source": []
  },
  {
   "cell_type": "code",
   "execution_count": 2,
   "id": "37bb901e-4325-4f15-8dc9-232d28d4bd8c",
   "metadata": {},
   "outputs": [
    {
     "data": {
      "text/plain": [
       "17"
      ]
     },
     "execution_count": 2,
     "metadata": {},
     "output_type": "execute_result"
    }
   ],
   "source": [
    "(3*4)+5"
   ]
  },
  {
   "cell_type": "code",
   "execution_count": 4,
   "id": "ddcff2ec-77f9-472a-95af-5c481730b824",
   "metadata": {},
   "outputs": [
    {
     "data": {
      "text/plain": [
       "'This a simple arithmetic expression to mutiply then add integers'"
      ]
     },
     "execution_count": 4,
     "metadata": {},
     "output_type": "execute_result"
    }
   ],
   "source": [
    "\"This a simple arithmetic expression to mutiply then add integers\""
   ]
  },
  {
   "cell_type": "code",
   "execution_count": null,
   "id": "163201fe-31a0-403a-b3dd-1cc3d79d5523",
   "metadata": {},
   "outputs": [],
   "source": []
  },
  {
   "cell_type": "code",
   "execution_count": 10,
   "id": "3a95887c-6202-4eaf-b9be-0e190de46a70",
   "metadata": {},
   "outputs": [
    {
     "ename": "SyntaxError",
     "evalue": "invalid syntax (2198467547.py, line 1)",
     "output_type": "error",
     "traceback": [
      "\u001b[0;36m  File \u001b[0;32m\"/tmp/ipykernel_345/2198467547.py\"\u001b[0;36m, line \u001b[0;32m1\u001b[0m\n\u001b[0;31m    Convert 200 minutes to hours\u001b[0m\n\u001b[0m              ^\u001b[0m\n\u001b[0;31mSyntaxError\u001b[0m\u001b[0;31m:\u001b[0m invalid syntax\n"
     ]
    }
   ],
   "source": [
    "Convert 200 minutes to hours"
   ]
  },
  {
   "cell_type": "code",
   "execution_count": 7,
   "id": "fd975066-9c63-4672-b11e-d6944b11bb82",
   "metadata": {},
   "outputs": [
    {
     "data": {
      "text/plain": [
       "'This will convert 200 minutes to hours by diving by 60'"
      ]
     },
     "execution_count": 7,
     "metadata": {},
     "output_type": "execute_result"
    }
   ],
   "source": [
    "\"This will convert 200 minutes to hours by diving by 60\""
   ]
  },
  {
   "cell_type": "code",
   "execution_count": null,
   "id": "a127cf7a-dbc2-45e7-98d0-f7d45e813bbb",
   "metadata": {},
   "outputs": [],
   "source": [
    "Objectives: "
   ]
  },
  {
   "cell_type": "code",
   "execution_count": null,
   "id": "3e3749f0-0851-4679-a421-e0cb8a85b504",
   "metadata": {},
   "outputs": [],
   "source": [
    "List popular languages for Data Science: Python, R, SQL"
   ]
  }
 ],
 "metadata": {
  "kernelspec": {
   "display_name": "Python",
   "language": "python",
   "name": "conda-env-python-py"
  },
  "language_info": {
   "codemirror_mode": {
    "name": "ipython",
    "version": 3
   },
   "file_extension": ".py",
   "mimetype": "text/x-python",
   "name": "python",
   "nbconvert_exporter": "python",
   "pygments_lexer": "ipython3",
   "version": "3.7.12"
  }
 },
 "nbformat": 4,
 "nbformat_minor": 5
}
